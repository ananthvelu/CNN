{
 "cells": [
  {
   "cell_type": "markdown",
   "metadata": {},
   "source": [
    "# Part 1 - Deeplearning for classification problem"
   ]
  },
  {
   "cell_type": "markdown",
   "metadata": {},
   "source": [
    "## Import"
   ]
  },
  {
   "cell_type": "code",
   "execution_count": 6,
   "metadata": {},
   "outputs": [],
   "source": [
    "import numpy as np\n",
    "import tensorflow as tf\n",
    "import pandas as pd"
   ]
  },
  {
   "cell_type": "code",
   "execution_count": 7,
   "metadata": {},
   "outputs": [
    {
     "data": {
      "text/plain": [
       "'2.2.0'"
      ]
     },
     "execution_count": 7,
     "metadata": {},
     "output_type": "execute_result"
    }
   ],
   "source": [
    "tf.__version__"
   ]
  },
  {
   "cell_type": "code",
   "execution_count": 10,
   "metadata": {},
   "outputs": [],
   "source": [
    "dataset = pd.read_csv('Churn_Modelling.csv')"
   ]
  },
  {
   "cell_type": "code",
   "execution_count": 19,
   "metadata": {},
   "outputs": [
    {
     "name": "stdout",
     "output_type": "stream",
     "text": [
      "[[619 'France' 'Female' ... 1 1 101348.88]\n",
      " [608 'Spain' 'Female' ... 0 1 112542.58]\n",
      " [502 'France' 'Female' ... 1 0 113931.57]\n",
      " ...\n",
      " [709 'France' 'Female' ... 0 1 42085.58]\n",
      " [772 'Germany' 'Male' ... 1 0 92888.52]\n",
      " [792 'France' 'Female' ... 1 0 38190.78]]\n",
      "[1 0 1 ... 1 1 0]\n"
     ]
    }
   ],
   "source": [
    "X = dataset.iloc[:, 3:-1].values\n",
    "Y = dataset.iloc[:, -1].values\n",
    "\n",
    "print (X)\n",
    "print (Y)"
   ]
  },
  {
   "cell_type": "markdown",
   "metadata": {},
   "source": [
    "## Categorical Data/Encoding"
   ]
  },
  {
   "cell_type": "code",
   "execution_count": 48,
   "metadata": {},
   "outputs": [
    {
     "name": "stdout",
     "output_type": "stream",
     "text": [
      "[1 1 1 ... 1 0 1]\n",
      "[0.0 0.0 0.0 ... 0.0 1.0 0.0]\n"
     ]
    }
   ],
   "source": [
    "from sklearn.preprocessing import LabelEncoder\n",
    "le = LabelEncoder()\n",
    "X[:, 2] = le.fit_transform(X[:, 2])\n",
    "print(X[:, 2])\n",
    "print(X[:, 1])"
   ]
  },
  {
   "cell_type": "markdown",
   "metadata": {},
   "source": [
    "## One Hot Encoding for Geography field"
   ]
  },
  {
   "cell_type": "code",
   "execution_count": 49,
   "metadata": {},
   "outputs": [
    {
     "name": "stdout",
     "output_type": "stream",
     "text": [
      "before [0.0 0.0 0.0 ... 0.0 1.0 0.0]\n",
      "[0.0 0.0 0.0 ... 0.0 1.0 0.0]\n"
     ]
    }
   ],
   "source": [
    "print(\"before\", X[:, 1])\n",
    "from sklearn.compose import ColumnTransformer\n",
    "from sklearn.preprocessing import OneHotEncoder\n",
    "ct = ColumnTransformer(transformers=[('encoder', OneHotEncoder(), [1])], remainder='passthrough')\n",
    "X = np.array(ct.fit_transform(X))\n",
    "# print(X)\n",
    "print(X[:, 1])"
   ]
  },
  {
   "cell_type": "code",
   "execution_count": 31,
   "metadata": {},
   "outputs": [],
   "source": [
    "from sklearn.model_selection import train_test_split\n",
    "X_train, X_test, Y_train, Y_test = train_test_split(X, Y, test_size = 0.2, random_state = 0)\n"
   ]
  },
  {
   "cell_type": "markdown",
   "metadata": {},
   "source": [
    "## Feature Scaling - Required always for Deeplearning"
   ]
  },
  {
   "cell_type": "code",
   "execution_count": 38,
   "metadata": {},
   "outputs": [
    {
     "name": "stdout",
     "output_type": "stream",
     "text": [
      "[[-1.01460667  1.75486502 -0.57369368 ...  0.64259497  0.9687384\n",
      "   1.61085707]\n",
      " [ 0.98560362 -0.5698444  -0.57369368 ...  0.64259497 -1.03227043\n",
      "   0.49587037]\n",
      " [-1.01460667 -0.5698444   1.74309049 ...  0.64259497  0.9687384\n",
      "  -0.42478674]\n",
      " ...\n",
      " [-1.01460667 -0.5698444   1.74309049 ...  0.64259497 -1.03227043\n",
      "   0.71888467]\n",
      " [-1.01460667  1.75486502 -0.57369368 ...  0.64259497  0.9687384\n",
      "  -1.54507805]\n",
      " [-1.01460667  1.75486502 -0.57369368 ...  0.64259497 -1.03227043\n",
      "   1.61255917]]\n"
     ]
    }
   ],
   "source": [
    "from sklearn.preprocessing import StandardScaler\n",
    "sc = StandardScaler()\n",
    "X_train = sc.fit_transform(X_train)\n",
    "X_test = sc.transform(X_test)\n",
    "\n",
    "# print(X_train)\n",
    "print(X_test)"
   ]
  },
  {
   "cell_type": "markdown",
   "metadata": {},
   "source": [
    "# Part 2 - Buid the ANN"
   ]
  },
  {
   "cell_type": "markdown",
   "metadata": {},
   "source": [
    "### Initialize ANN"
   ]
  },
  {
   "cell_type": "code",
   "execution_count": 39,
   "metadata": {},
   "outputs": [],
   "source": [
    "ann = tf.keras.models.Sequential()"
   ]
  },
  {
   "cell_type": "markdown",
   "metadata": {},
   "source": [
    "## Add input layer and first hidden layer"
   ]
  },
  {
   "cell_type": "code",
   "execution_count": 40,
   "metadata": {},
   "outputs": [],
   "source": [
    "ann.add(tf.keras.layers.Dense(units=6, activation='relu'))"
   ]
  },
  {
   "cell_type": "markdown",
   "metadata": {},
   "source": [
    "## Add Second hidden layer"
   ]
  },
  {
   "cell_type": "code",
   "execution_count": 41,
   "metadata": {},
   "outputs": [],
   "source": [
    "ann.add(tf.keras.layers.Dense(units=6, activation='relu'))"
   ]
  },
  {
   "cell_type": "markdown",
   "metadata": {},
   "source": [
    "## Add Output layer"
   ]
  },
  {
   "cell_type": "code",
   "execution_count": 42,
   "metadata": {},
   "outputs": [],
   "source": [
    " "
   ]
  },
  {
   "cell_type": "markdown",
   "metadata": {},
   "source": [
    "# Part 3 - Train the ANN"
   ]
  },
  {
   "cell_type": "markdown",
   "metadata": {},
   "source": [
    "## Compiling ANN"
   ]
  },
  {
   "cell_type": "code",
   "execution_count": 43,
   "metadata": {},
   "outputs": [],
   "source": [
    "ann.compile(optimizer = 'adam', loss= 'binary_crossentropy', metrics =['accuracy'])"
   ]
  },
  {
   "cell_type": "markdown",
   "metadata": {},
   "source": [
    "## Train ANN on training set over some epochs\n",
    " * Note: batch_size is mostly favored to be 32 by most people. batch processing has drawbacks too with large data sets\n",
    " * epochs should not be too small since aggregated info helps deeplearning fix the weights more accurately"
   ]
  },
  {
   "cell_type": "code",
   "execution_count": 44,
   "metadata": {},
   "outputs": [
    {
     "name": "stdout",
     "output_type": "stream",
     "text": [
      "Epoch 1/100\n",
      "250/250 [==============================] - 0s 624us/step - loss: 0.5897 - accuracy: 0.7600\n",
      "Epoch 2/100\n",
      "250/250 [==============================] - 0s 605us/step - loss: 0.4732 - accuracy: 0.7960\n",
      "Epoch 3/100\n",
      "250/250 [==============================] - 0s 624us/step - loss: 0.4496 - accuracy: 0.7960\n",
      "Epoch 4/100\n",
      "250/250 [==============================] - 0s 615us/step - loss: 0.4395 - accuracy: 0.7960\n",
      "Epoch 5/100\n",
      "250/250 [==============================] - 0s 602us/step - loss: 0.4331 - accuracy: 0.7960\n",
      "Epoch 6/100\n",
      "250/250 [==============================] - 0s 597us/step - loss: 0.4282 - accuracy: 0.7958\n",
      "Epoch 7/100\n",
      "250/250 [==============================] - 0s 620us/step - loss: 0.4237 - accuracy: 0.8104\n",
      "Epoch 8/100\n",
      "250/250 [==============================] - 0s 618us/step - loss: 0.4183 - accuracy: 0.8229\n",
      "Epoch 9/100\n",
      "250/250 [==============================] - 0s 616us/step - loss: 0.4138 - accuracy: 0.8266\n",
      "Epoch 10/100\n",
      "250/250 [==============================] - 0s 612us/step - loss: 0.4092 - accuracy: 0.8314\n",
      "Epoch 11/100\n",
      "250/250 [==============================] - 0s 625us/step - loss: 0.4055 - accuracy: 0.8314\n",
      "Epoch 12/100\n",
      "250/250 [==============================] - 0s 653us/step - loss: 0.4032 - accuracy: 0.8349\n",
      "Epoch 13/100\n",
      "250/250 [==============================] - 0s 645us/step - loss: 0.4016 - accuracy: 0.8342\n",
      "Epoch 14/100\n",
      "250/250 [==============================] - 0s 613us/step - loss: 0.4007 - accuracy: 0.8357\n",
      "Epoch 15/100\n",
      "250/250 [==============================] - 0s 613us/step - loss: 0.3997 - accuracy: 0.8339\n",
      "Epoch 16/100\n",
      "250/250 [==============================] - 0s 616us/step - loss: 0.3989 - accuracy: 0.8350\n",
      "Epoch 17/100\n",
      "250/250 [==============================] - 0s 637us/step - loss: 0.3981 - accuracy: 0.8340\n",
      "Epoch 18/100\n",
      "250/250 [==============================] - 0s 607us/step - loss: 0.3974 - accuracy: 0.8329\n",
      "Epoch 19/100\n",
      "250/250 [==============================] - 0s 631us/step - loss: 0.3971 - accuracy: 0.8341\n",
      "Epoch 20/100\n",
      "250/250 [==============================] - 0s 852us/step - loss: 0.3966 - accuracy: 0.8342\n",
      "Epoch 21/100\n",
      "250/250 [==============================] - 0s 673us/step - loss: 0.3961 - accuracy: 0.8350\n",
      "Epoch 22/100\n",
      "250/250 [==============================] - 0s 684us/step - loss: 0.3952 - accuracy: 0.8353\n",
      "Epoch 23/100\n",
      "250/250 [==============================] - 0s 686us/step - loss: 0.3948 - accuracy: 0.8350\n",
      "Epoch 24/100\n",
      "250/250 [==============================] - 0s 677us/step - loss: 0.3942 - accuracy: 0.8354\n",
      "Epoch 25/100\n",
      "250/250 [==============================] - 0s 636us/step - loss: 0.3938 - accuracy: 0.8347\n",
      "Epoch 26/100\n",
      "250/250 [==============================] - 0s 620us/step - loss: 0.3932 - accuracy: 0.8344\n",
      "Epoch 27/100\n",
      "250/250 [==============================] - 0s 637us/step - loss: 0.3924 - accuracy: 0.8360\n",
      "Epoch 28/100\n",
      "250/250 [==============================] - 0s 614us/step - loss: 0.3918 - accuracy: 0.8359\n",
      "Epoch 29/100\n",
      "250/250 [==============================] - 0s 630us/step - loss: 0.3910 - accuracy: 0.8370\n",
      "Epoch 30/100\n",
      "250/250 [==============================] - 0s 618us/step - loss: 0.3904 - accuracy: 0.8359\n",
      "Epoch 31/100\n",
      "250/250 [==============================] - 0s 626us/step - loss: 0.3897 - accuracy: 0.8354\n",
      "Epoch 32/100\n",
      "250/250 [==============================] - 0s 616us/step - loss: 0.3888 - accuracy: 0.8364\n",
      "Epoch 33/100\n",
      "250/250 [==============================] - 0s 619us/step - loss: 0.3874 - accuracy: 0.8367\n",
      "Epoch 34/100\n",
      "250/250 [==============================] - 0s 614us/step - loss: 0.3859 - accuracy: 0.8357\n",
      "Epoch 35/100\n",
      "250/250 [==============================] - 0s 639us/step - loss: 0.3837 - accuracy: 0.8369\n",
      "Epoch 36/100\n",
      "250/250 [==============================] - 0s 642us/step - loss: 0.3809 - accuracy: 0.8378\n",
      "Epoch 37/100\n",
      "250/250 [==============================] - 0s 903us/step - loss: 0.3767 - accuracy: 0.8375\n",
      "Epoch 38/100\n",
      "250/250 [==============================] - 0s 865us/step - loss: 0.3711 - accuracy: 0.8422\n",
      "Epoch 39/100\n",
      "250/250 [==============================] - 0s 819us/step - loss: 0.3631 - accuracy: 0.8475\n",
      "Epoch 40/100\n",
      "250/250 [==============================] - 0s 718us/step - loss: 0.3543 - accuracy: 0.8536\n",
      "Epoch 41/100\n",
      "250/250 [==============================] - 0s 643us/step - loss: 0.3480 - accuracy: 0.8575\n",
      "Epoch 42/100\n",
      "250/250 [==============================] - 0s 640us/step - loss: 0.3444 - accuracy: 0.8589\n",
      "Epoch 43/100\n",
      "250/250 [==============================] - 0s 647us/step - loss: 0.3421 - accuracy: 0.8605\n",
      "Epoch 44/100\n",
      "250/250 [==============================] - 0s 629us/step - loss: 0.3408 - accuracy: 0.8614\n",
      "Epoch 45/100\n",
      "250/250 [==============================] - 0s 633us/step - loss: 0.3398 - accuracy: 0.8609\n",
      "Epoch 46/100\n",
      "250/250 [==============================] - 0s 623us/step - loss: 0.3395 - accuracy: 0.8615\n",
      "Epoch 47/100\n",
      "250/250 [==============================] - 0s 637us/step - loss: 0.3387 - accuracy: 0.8620\n",
      "Epoch 48/100\n",
      "250/250 [==============================] - 0s 625us/step - loss: 0.3382 - accuracy: 0.8634\n",
      "Epoch 49/100\n",
      "250/250 [==============================] - 0s 627us/step - loss: 0.3380 - accuracy: 0.8625\n",
      "Epoch 50/100\n",
      "250/250 [==============================] - 0s 755us/step - loss: 0.3374 - accuracy: 0.8627\n",
      "Epoch 51/100\n",
      "250/250 [==============================] - 0s 733us/step - loss: 0.3376 - accuracy: 0.8635\n",
      "Epoch 52/100\n",
      "250/250 [==============================] - 0s 724us/step - loss: 0.3369 - accuracy: 0.8633\n",
      "Epoch 53/100\n",
      "250/250 [==============================] - 0s 675us/step - loss: 0.3370 - accuracy: 0.8624\n",
      "Epoch 54/100\n",
      "250/250 [==============================] - 0s 654us/step - loss: 0.3368 - accuracy: 0.8620\n",
      "Epoch 55/100\n",
      "250/250 [==============================] - 0s 640us/step - loss: 0.3364 - accuracy: 0.8625\n",
      "Epoch 56/100\n",
      "250/250 [==============================] - 0s 600us/step - loss: 0.3360 - accuracy: 0.8627\n",
      "Epoch 57/100\n",
      "250/250 [==============================] - 0s 600us/step - loss: 0.3363 - accuracy: 0.8630\n",
      "Epoch 58/100\n",
      "250/250 [==============================] - 0s 607us/step - loss: 0.3354 - accuracy: 0.8630\n",
      "Epoch 59/100\n",
      "250/250 [==============================] - 0s 624us/step - loss: 0.3356 - accuracy: 0.8626\n",
      "Epoch 60/100\n",
      "250/250 [==============================] - 0s 596us/step - loss: 0.3355 - accuracy: 0.8640\n",
      "Epoch 61/100\n",
      "250/250 [==============================] - 0s 612us/step - loss: 0.3347 - accuracy: 0.8626\n",
      "Epoch 62/100\n",
      "250/250 [==============================] - 0s 593us/step - loss: 0.3354 - accuracy: 0.8641\n",
      "Epoch 63/100\n",
      "250/250 [==============================] - 0s 621us/step - loss: 0.3347 - accuracy: 0.8640\n",
      "Epoch 64/100\n",
      "250/250 [==============================] - 0s 657us/step - loss: 0.3349 - accuracy: 0.8637\n",
      "Epoch 65/100\n",
      "250/250 [==============================] - 0s 700us/step - loss: 0.3347 - accuracy: 0.8641\n",
      "Epoch 66/100\n",
      "250/250 [==============================] - 0s 680us/step - loss: 0.3346 - accuracy: 0.8635\n",
      "Epoch 67/100\n",
      "250/250 [==============================] - 0s 717us/step - loss: 0.3343 - accuracy: 0.8648\n",
      "Epoch 68/100\n",
      "250/250 [==============================] - 0s 792us/step - loss: 0.3344 - accuracy: 0.8627\n",
      "Epoch 69/100\n",
      "250/250 [==============================] - 0s 658us/step - loss: 0.3341 - accuracy: 0.8630\n",
      "Epoch 70/100\n",
      "250/250 [==============================] - 0s 632us/step - loss: 0.3343 - accuracy: 0.8639\n",
      "Epoch 71/100\n",
      "250/250 [==============================] - 0s 663us/step - loss: 0.3343 - accuracy: 0.8643\n",
      "Epoch 72/100\n",
      "250/250 [==============================] - 0s 632us/step - loss: 0.3340 - accuracy: 0.8637\n",
      "Epoch 73/100\n",
      "250/250 [==============================] - 0s 639us/step - loss: 0.3336 - accuracy: 0.8636\n",
      "Epoch 74/100\n",
      "250/250 [==============================] - 0s 635us/step - loss: 0.3341 - accuracy: 0.8616\n",
      "Epoch 75/100\n",
      "250/250 [==============================] - 0s 663us/step - loss: 0.3337 - accuracy: 0.8651\n",
      "Epoch 76/100\n",
      "250/250 [==============================] - 0s 626us/step - loss: 0.3337 - accuracy: 0.8635\n",
      "Epoch 77/100\n",
      "250/250 [==============================] - 0s 627us/step - loss: 0.3337 - accuracy: 0.8637\n",
      "Epoch 78/100\n",
      "250/250 [==============================] - 0s 629us/step - loss: 0.3334 - accuracy: 0.8626\n",
      "Epoch 79/100\n",
      "250/250 [==============================] - 0s 612us/step - loss: 0.3337 - accuracy: 0.8635\n",
      "Epoch 80/100\n",
      "250/250 [==============================] - 0s 594us/step - loss: 0.3332 - accuracy: 0.8627\n",
      "Epoch 81/100\n",
      "250/250 [==============================] - 0s 589us/step - loss: 0.3333 - accuracy: 0.8637\n",
      "Epoch 82/100\n",
      "250/250 [==============================] - 0s 595us/step - loss: 0.3334 - accuracy: 0.8634\n",
      "Epoch 83/100\n",
      "250/250 [==============================] - 0s 634us/step - loss: 0.3330 - accuracy: 0.8644\n",
      "Epoch 84/100\n",
      "250/250 [==============================] - 0s 597us/step - loss: 0.3332 - accuracy: 0.8646\n",
      "Epoch 85/100\n",
      "250/250 [==============================] - 0s 620us/step - loss: 0.3332 - accuracy: 0.8633\n",
      "Epoch 86/100\n",
      "250/250 [==============================] - 0s 620us/step - loss: 0.3332 - accuracy: 0.8629\n",
      "Epoch 87/100\n",
      "250/250 [==============================] - 0s 621us/step - loss: 0.3326 - accuracy: 0.8633\n",
      "Epoch 88/100\n",
      "250/250 [==============================] - 0s 637us/step - loss: 0.3330 - accuracy: 0.8637\n",
      "Epoch 89/100\n",
      "250/250 [==============================] - 0s 627us/step - loss: 0.3328 - accuracy: 0.8636\n",
      "Epoch 90/100\n",
      "250/250 [==============================] - 0s 601us/step - loss: 0.3326 - accuracy: 0.8645\n",
      "Epoch 91/100\n",
      "250/250 [==============================] - 0s 610us/step - loss: 0.3330 - accuracy: 0.8633\n",
      "Epoch 92/100\n",
      "250/250 [==============================] - 0s 605us/step - loss: 0.3330 - accuracy: 0.8625\n",
      "Epoch 93/100\n",
      "250/250 [==============================] - 0s 622us/step - loss: 0.3329 - accuracy: 0.8635\n",
      "Epoch 94/100\n",
      "250/250 [==============================] - 0s 637us/step - loss: 0.3326 - accuracy: 0.8635\n",
      "Epoch 95/100\n",
      "250/250 [==============================] - 0s 631us/step - loss: 0.3326 - accuracy: 0.8649\n",
      "Epoch 96/100\n",
      "250/250 [==============================] - 0s 607us/step - loss: 0.3322 - accuracy: 0.8634\n",
      "Epoch 97/100\n",
      "250/250 [==============================] - 0s 616us/step - loss: 0.3326 - accuracy: 0.8648\n",
      "Epoch 98/100\n",
      "250/250 [==============================] - 0s 638us/step - loss: 0.3326 - accuracy: 0.8639\n",
      "Epoch 99/100\n",
      "250/250 [==============================] - 0s 642us/step - loss: 0.3324 - accuracy: 0.8637\n",
      "Epoch 100/100\n",
      "250/250 [==============================] - 0s 651us/step - loss: 0.3324 - accuracy: 0.8630\n"
     ]
    },
    {
     "data": {
      "text/plain": [
       "<tensorflow.python.keras.callbacks.History at 0x1599548d0>"
      ]
     },
     "execution_count": 44,
     "metadata": {},
     "output_type": "execute_result"
    }
   ],
   "source": [
    "ann.fit(X_train, Y_train, batch_size=32, epochs=100)"
   ]
  },
  {
   "cell_type": "markdown",
   "metadata": {},
   "source": [
    "# Part 4"
   ]
  },
  {
   "cell_type": "markdown",
   "metadata": {},
   "source": [
    "## Predict the result of single observation\n",
    "\n",
    "### New Dataset to test\n",
    "Use our ANN model to predict if the customer with the following informations will leave the bank: \n",
    "\n",
    "Geography: France\n",
    "\n",
    "Credit Score: 600\n",
    "\n",
    "Gender: Male\n",
    "\n",
    "Age: 40 years old\n",
    "\n",
    "Tenure: 3 years\n",
    "\n",
    "Balance: \\$ 60000\n",
    "\n",
    "Number of Products: 2\n",
    "\n",
    "Does this customer have a credit card? Yes\n",
    "\n",
    "Is this customer an Active Member: Yes\n",
    "\n",
    "Estimated Salary: \\$ 50000\n",
    "\n",
    "So, should we say goodbye to that customer?\n"
   ]
  },
  {
   "cell_type": "code",
   "execution_count": 57,
   "metadata": {},
   "outputs": [
    {
     "name": "stdout",
     "output_type": "stream",
     "text": [
      "[[ True]]\n"
     ]
    }
   ],
   "source": [
    "# Predict method would only take 2D array which is [[]]\n",
    "# France ==> 1.0, 0.0, 0.0 ==> 1,0,0\n",
    "# We need to use one hot encoder too\n",
    "# \n",
    "\n",
    "print (ann.predict(sc.transform([[1,0,0, 600, 1, 40, 3, 60000, 2, 1, 1, 50000]])) > 0.5)\n"
   ]
  },
  {
   "cell_type": "markdown",
   "metadata": {},
   "source": [
    "Therefore, our ANN model predicts that this customer stays in the bank!\n",
    "\n",
    "Important note 1: Notice that the values of the features were all input in a double pair of square brackets. That's because the \"predict\" method always expects a 2D array as the format of its inputs. And putting our values into a double pair of square brackets makes the input exactly a 2D array.\n",
    "\n",
    "Important note 2: Notice also that the \"France\" country was not input as a string in the last column but as \"1, 0, 0\" in the first three columns. That's because of course the predict method expects the one-hot-encoded values of the state, and as we see in the first row of the matrix of features X, \"France\" was encoded as \"1, 0, 0\". And be careful to include these values in the first three columns, because the dummy variables are always created in the first columns.\n"
   ]
  },
  {
   "cell_type": "code",
   "execution_count": 58,
   "metadata": {},
   "outputs": [
    {
     "name": "stdout",
     "output_type": "stream",
     "text": [
      "[[0 0]\n",
      " [0 1]\n",
      " [0 0]\n",
      " ...\n",
      " [0 0]\n",
      " [0 0]\n",
      " [0 0]]\n"
     ]
    }
   ],
   "source": [
    "Y_pred = (ann.predict(X_test) > 0.5)\n",
    "print(np.concatenate((Y_pred.reshape(len(Y_pred), 1), Y_test.reshape(len(Y_test), 1)), 1))"
   ]
  },
  {
   "cell_type": "code",
   "execution_count": 59,
   "metadata": {},
   "outputs": [
    {
     "name": "stdout",
     "output_type": "stream",
     "text": [
      "[[1516   79]\n",
      " [ 199  206]]\n"
     ]
    },
    {
     "data": {
      "text/plain": [
       "0.861"
      ]
     },
     "execution_count": 59,
     "metadata": {},
     "output_type": "execute_result"
    }
   ],
   "source": [
    "from sklearn.metrics import confusion_matrix, accuracy_score\n",
    "cm = confusion_matrix(Y_test, Y_pred)\n",
    "print(cm)\n",
    "accuracy_score(Y_test, Y_pred)"
   ]
  },
  {
   "cell_type": "code",
   "execution_count": null,
   "metadata": {},
   "outputs": [],
   "source": []
  }
 ],
 "metadata": {
  "kernelspec": {
   "display_name": "Python 3",
   "language": "python",
   "name": "python3"
  },
  "language_info": {
   "codemirror_mode": {
    "name": "ipython",
    "version": 3
   },
   "file_extension": ".py",
   "mimetype": "text/x-python",
   "name": "python",
   "nbconvert_exporter": "python",
   "pygments_lexer": "ipython3",
   "version": "3.7.7"
  }
 },
 "nbformat": 4,
 "nbformat_minor": 4
}
